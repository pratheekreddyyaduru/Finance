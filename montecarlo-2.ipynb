{
 "cells": [
  {
   "cell_type": "code",
   "execution_count": null,
   "id": "29657bba",
   "metadata": {},
   "outputs": [],
   "source": [
    "import pandas as pd\n",
    "import yfinance as yf\n",
    "import seaborn as sns\n",
    "from scipy import stats"
   ]
  },
  {
   "cell_type": "code",
   "execution_count": null,
   "id": "05c81836",
   "metadata": {
    "scrolled": true
   },
   "outputs": [],
   "source": [
    "symbol = \"SBIN.NS\"\n",
    "end = \"2022-05-25\"\n",
    "start = \"2022-02-25\"\n",
    "df = yf.download(symbol,start,end)\n"
   ]
  },
  {
   "cell_type": "code",
   "execution_count": null,
   "id": "fdf93405",
   "metadata": {},
   "outputs": [],
   "source": [
    "df1=yf.download(symbol,\"2022-05-25\",\"2022-07-25\")"
   ]
  },
  {
   "cell_type": "code",
   "execution_count": null,
   "id": "ecd171a0",
   "metadata": {},
   "outputs": [],
   "source": [
    "real_price=df1[\"Adj Close\"][:30]"
   ]
  },
  {
   "cell_type": "code",
   "execution_count": null,
   "id": "41232f96",
   "metadata": {
    "scrolled": true
   },
   "outputs": [],
   "source": [
    "real_price"
   ]
  },
  {
   "cell_type": "code",
   "execution_count": null,
   "id": "cf14e9ba",
   "metadata": {
    "scrolled": true
   },
   "outputs": [],
   "source": [
    "df"
   ]
  },
  {
   "cell_type": "code",
   "execution_count": null,
   "id": "e96fa9db",
   "metadata": {},
   "outputs": [],
   "source": [
    "adj_close= df[\"Adj Close\"].pct_change()"
   ]
  },
  {
   "cell_type": "code",
   "execution_count": null,
   "id": "3c106f92",
   "metadata": {},
   "outputs": [],
   "source": [
    "lenght_df=df.shape"
   ]
  },
  {
   "cell_type": "code",
   "execution_count": null,
   "id": "ef949bc3",
   "metadata": {},
   "outputs": [],
   "source": [
    "lenght_df[0]"
   ]
  },
  {
   "cell_type": "code",
   "execution_count": null,
   "id": "9a674f86",
   "metadata": {},
   "outputs": [],
   "source": [
    "last_price = df[\"Adj Close\"][lenght_df[0]-1]"
   ]
  },
  {
   "cell_type": "code",
   "execution_count": null,
   "id": "afc8732e",
   "metadata": {},
   "outputs": [],
   "source": [
    "last_price"
   ]
  },
  {
   "cell_type": "code",
   "execution_count": null,
   "id": "52047716",
   "metadata": {
    "scrolled": true
   },
   "outputs": [],
   "source": [
    "adj_close"
   ]
  },
  {
   "cell_type": "code",
   "execution_count": null,
   "id": "1bbdf438",
   "metadata": {
    "scrolled": true
   },
   "outputs": [],
   "source": [
    "returns = adj_close[1:]\n",
    "print(returns)\n"
   ]
  },
  {
   "cell_type": "code",
   "execution_count": null,
   "id": "ed642bf8",
   "metadata": {
    "scrolled": true
   },
   "outputs": [],
   "source": [
    "sns.distplot(returns,fit= stats.norm)"
   ]
  },
  {
   "cell_type": "code",
   "execution_count": null,
   "id": "7b137fb5",
   "metadata": {},
   "outputs": [],
   "source": [
    "mean_of_stock = returns.mean()\n",
    "std_dev=returns.std()"
   ]
  },
  {
   "cell_type": "code",
   "execution_count": null,
   "id": "386b9035",
   "metadata": {},
   "outputs": [],
   "source": [
    "std_dev"
   ]
  },
  {
   "cell_type": "code",
   "execution_count": null,
   "id": "b40caff1",
   "metadata": {},
   "outputs": [],
   "source": [
    "mean_of_stock"
   ]
  },
  {
   "cell_type": "code",
   "execution_count": null,
   "id": "f0193dc6",
   "metadata": {
    "scrolled": true
   },
   "outputs": [],
   "source": [
    "l=stats.norm.ppf(0.20)\n",
    "u=stats.norm.ppf(0.80)"
   ]
  },
  {
   "cell_type": "code",
   "execution_count": null,
   "id": "9a8eade0",
   "metadata": {},
   "outputs": [],
   "source": [
    "l"
   ]
  },
  {
   "cell_type": "code",
   "execution_count": null,
   "id": "06356b53",
   "metadata": {},
   "outputs": [],
   "source": [
    "u"
   ]
  },
  {
   "cell_type": "code",
   "execution_count": null,
   "id": "6e358602",
   "metadata": {},
   "outputs": [],
   "source": [
    "import numpy as np\n",
    "\n",
    "np.random.seed(42)\n",
    "n= np.random.normal(size=(10,30))"
   ]
  },
  {
   "cell_type": "code",
   "execution_count": null,
   "id": "d211937b",
   "metadata": {
    "scrolled": true
   },
   "outputs": [],
   "source": [
    "n"
   ]
  },
  {
   "cell_type": "code",
   "execution_count": null,
   "id": "ac09ff3e",
   "metadata": {},
   "outputs": [],
   "source": [
    "rows=n.shape[0]\n",
    "colns=n.shape[1]\n"
   ]
  },
  {
   "cell_type": "code",
   "execution_count": null,
   "id": "3b3a528a",
   "metadata": {},
   "outputs": [],
   "source": [
    "rows"
   ]
  },
  {
   "cell_type": "code",
   "execution_count": null,
   "id": "44c2682c",
   "metadata": {},
   "outputs": [],
   "source": [
    "colns"
   ]
  },
  {
   "cell_type": "code",
   "execution_count": null,
   "id": "65ee48a6",
   "metadata": {},
   "outputs": [],
   "source": [
    "for i in range(0,rows):\n",
    "    for j in range(0,colns):\n",
    "        if n[i][j] > u:\n",
    "            n[i][j] = u\n",
    "        elif n[i][j] < l:\n",
    "            n[i][j] = l\n",
    "        else:\n",
    "            n[i][j]=n[i][j]\n",
    "        n[i][j]=(std_dev*n[i][j]) + mean_of_stock\n",
    "            "
   ]
  },
  {
   "cell_type": "code",
   "execution_count": null,
   "id": "43a899cb",
   "metadata": {
    "scrolled": true
   },
   "outputs": [],
   "source": [
    "n"
   ]
  },
  {
   "cell_type": "code",
   "execution_count": null,
   "id": "dbe1ea8b",
   "metadata": {},
   "outputs": [],
   "source": []
  },
  {
   "cell_type": "code",
   "execution_count": null,
   "id": "cf51e5cd",
   "metadata": {},
   "outputs": [],
   "source": [
    "price =[]\n",
    "for i in range (0,rows):\n",
    "        price.append([])\n",
    "for i in range(0,rows):\n",
    "    for j in range(0,colns):\n",
    "        if j==0:\n",
    "            price[i].append(last_price)\n",
    "        else:\n",
    "            price[i].append( price[i][j-1]*(1+n[i][j]))\n",
    "            "
   ]
  },
  {
   "cell_type": "code",
   "execution_count": null,
   "id": "8621f236",
   "metadata": {},
   "outputs": [],
   "source": [
    "price"
   ]
  },
  {
   "cell_type": "code",
   "execution_count": null,
   "id": "9b13e76c",
   "metadata": {},
   "outputs": [],
   "source": [
    "x=[]\n",
    "for i in range (0,30):\n",
    "    x.append(i)"
   ]
  },
  {
   "cell_type": "code",
   "execution_count": null,
   "id": "fc7fa37e",
   "metadata": {},
   "outputs": [],
   "source": [
    "import matplotlib.pyplot as plt\n",
    "plt.plot(x,price[0],x,price[1],x,price[2],x,price[3],x,price[4],x,price[5],x,price[6],x,price[7],x,price[8],x,price[9])\n",
    "plt.show()"
   ]
  },
  {
   "cell_type": "code",
   "execution_count": null,
   "id": "b0580cb9",
   "metadata": {},
   "outputs": [],
   "source": [
    "import matplotlib.pyplot as plt\n",
    "plt.plot(x,price[0],x,price[1],x,price[2],x,price[3],x,price[4],x,price[5],x,price[6],x,price[7],x,price[8],x,price[9])\n",
    "plt.plot(x, real_price,'k')\n"
   ]
  }
 ],
 "metadata": {
  "kernelspec": {
   "display_name": "Python 3 (ipykernel)",
   "language": "python",
   "name": "python3"
  },
  "language_info": {
   "codemirror_mode": {
    "name": "ipython",
    "version": 3
   },
   "file_extension": ".py",
   "mimetype": "text/x-python",
   "name": "python",
   "nbconvert_exporter": "python",
   "pygments_lexer": "ipython3",
   "version": "3.9.7"
  }
 },
 "nbformat": 4,
 "nbformat_minor": 5
}
